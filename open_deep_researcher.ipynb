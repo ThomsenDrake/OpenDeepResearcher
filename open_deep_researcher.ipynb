{
 "cells": [],
 "metadata": {
  "colab": {
   "authorship_tag": "ABX9TyOe5BsaH0aplNCjknkFtnjg",
   "include_colab_link": true,
   "provenance": []
  },
  "kernelspec": {
   "display_name": "3.13.0",
   "language": "python",
   "name": "python3"
  },
  "language_info": {
   "name": "python",
   "version": "3.13.0"
  }
 },
 "nbformat": 4,
 "nbformat_minor": 0
}
